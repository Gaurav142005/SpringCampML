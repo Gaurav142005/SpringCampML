{
  "nbformat": 4,
  "nbformat_minor": 0,
  "metadata": {
    "colab": {
      "provenance": []
    },
    "kernelspec": {
      "name": "python3",
      "display_name": "Python 3"
    },
    "language_info": {
      "name": "python"
    }
  },
  "cells": [
    {
      "cell_type": "code",
      "source": [
        "!pip install gradio\n",
        "import gradio as gr"
      ],
      "metadata": {
        "id": "aDhsrBCqc6Rl"
      },
      "execution_count": null,
      "outputs": []
    },
    {
      "cell_type": "code",
      "execution_count": null,
      "metadata": {
        "id": "--UPVNmFc42J"
      },
      "outputs": [],
      "source": [
        "def prediction(SubClass, SurfaceArea, GarageArea, Luxury, Totalrooms, half_bath, full_bath, Quality):\n",
        "  Id = 1\n",
        "  bath = full_bath + 0.5 * (half_bath)\n",
        "  test=[['Id', 'MSSubClass', 'SF', 'TotRmsAbvGrd', 'OverallQual', 'Bath', 'GarageArea', 'Luxury'],[Id, SubClass, SurfaceArea, Totalrooms, Quality, bath, Kitchen, GarageArea,Luxury]]\n",
        "  model = KNeighborsRegressor(n_neighbors = K_min)\n",
        "  model.fit(X_train, y_train)  #fit the model\n",
        "  pred=model.predict(test) #make prediction on test set\n",
        "  return pred"
      ]
    },
    {
      "cell_type": "code",
      "source": [
        "interface = gr.Interface(fn=prediction,\n",
        "        inputs=[gr.inputs.Dropdown(choices=[\"1-STORY 1946 & NEWER ALL STYLES\",\n",
        "                                   \"1-STORY 1945 & OLDER\",\n",
        "                                   \"1-STORY W/FINISHED ATTIC ALL AGES\",\n",
        "                                   '1-1/2 STORY - UNFINISHED ALL AGES',\n",
        "          \t                       '1-1/2 STORY FINISHED ALL AGES',\n",
        "          \t                       '2-STORY 1946 & NEWER',\n",
        "          \t                       '2-STORY 1945 & OLDER',\n",
        "          \t                       '2-1/2 STORY ALL AGES',\n",
        "          \t                       'SPLIT OR MULTI-LEVEL',\n",
        "          \t                       'SPLIT FOYER',\n",
        "          \t                       'DUPLEX - ALL STYLES AND AGES',\n",
        "          \t                       '1-STORY PUD (Planned Unit Development) - 1946 & NEWER',\n",
        "                                   '1-1/2 STORY PUD - ALL AGES',\n",
        "                                   '2-STORY PUD - 1946 & NEWER',\n",
        "          \t                       'PUD - MULTILEVEL - INCL SPLIT LEV/FOYER',\n",
        "           \t                       '2 FAMILY CONVERSION - ALL STYLES AND AGES'],\n",
        "                                   values=[20,30,40,45,50,60,70,75,80,85,90,120,150,160,180,190])\n",
        "        gr.inputs.Slider(0,11000,label = 'Total Surface Area'),\n",
        "        gr.inputs.Slider(0, 1500, label ='Garage Area'),\n",
        "        gr.inputs.Slider(0, 1800, label ='Luxury'),\n",
        "        gr.inputs.Textbox(lines=1, placeholder = 'Total rooms'),\n",
        "        gr.inputs.Textbox(lines=1, placeholder = 'Half Bathrooms'),\n",
        "        gr.inputs.Textbox(lines=1, placeholder = 'Full Bathrooms'),\n",
        "        gr.inputs.Dropdown(choices=[('Very Excellent', 10),\n",
        "                                   ('Excellent',9),\n",
        "                                   ('Very Good',8),\n",
        "                                   ('Good',7),\n",
        "                                   ('Above Average',6)\n",
        "                                   ('Average',5),\n",
        "                                   ('Below Average',4),\n",
        "                                   ('Fair',3),\n",
        "                                   ('Poor',2),\n",
        "                                   ('Very Poor', 1)])]\n",
        "\n",
        "        outputs = ['text'])"
      ],
      "metadata": {
        "id": "wDyHose-dCXz"
      },
      "execution_count": null,
      "outputs": []
    }
  ]
}